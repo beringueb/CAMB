{
 "cells": [
  {
   "cell_type": "code",
   "execution_count": null,
   "id": "2b2c3948-c2e9-4ef3-9d22-ddcec825662c",
   "metadata": {},
   "outputs": [
    {
     "name": "stderr",
     "output_type": "stream",
     "text": [
      "WARNING:root:Calling set_cosmology(**{'H0': 67.32117, 'ombh2': 0.0223828, 'omch2': 0.1201075, 'omk': 0, 'mnu': 0.06, 'tau': 0.05430842})\n",
      "WARNING:root:Calling set_for_lmax(**{'lmax': 2700})\n",
      "WARNING:root:Calling set_params(**{'As': 2.100549e-09, 'ns': 0.9660499})\n",
      "WARNING:root:Calling set_params(**{'halofit_version': 5})\n"
     ]
    },
    {
     "name": "stdout",
     "output_type": "stream",
     "text": [
      "Using CAMB 1.5.7 installed at /home/andrea/Bureau/CAMB_V2/CAMB/camb\n",
      "Non ??\n",
      "CPS Is Problems 0\n",
      "CPS Is Problems 1\n",
      "CT Is Problems 0\n",
      "CT Is Problems 1\n",
      "CT Is Problems 2\n",
      "CT Is Problems 3\n",
      " Is get_result ok ?\n",
      " Doing frequencies:    0.0000000000000000        250.00000000000000        500.00000000000000        600.00000000000000        700.00000000000000        800.00000000000000     \n",
      "CT Is Problems End\n",
      "CPS Is Problems 2\n",
      "CPS Is Problems End\n",
      "Power Spectra !\n",
      "Is Problems 0\n",
      "CPS Is Problems 0\n",
      "CPS Is Problems 1\n",
      "CT Is Problems 0\n",
      "CT Is Problems 1\n",
      "CT Is Problems 2\n",
      "CT Is Problems 3\n",
      " Is get_result ok ?\n",
      " Doing frequencies:    0.0000000000000000        250.00000000000000        500.00000000000000        600.00000000000000        700.00000000000000        800.00000000000000     \n"
     ]
    }
   ],
   "source": [
    "def ini_draw(aH0=67.5,aombh2=0.022,aomch2=0.122,amnu=0.06,aomk=0,atau=0.06,aAs=2e-9,ans=0.965,ahalofit_version='mead',almax=2500):\n",
    "    pars = camb.set_params(None, True,H0=aH0,ombh2=aombh2,omch2=aomch2,mnu=amnu,omk=aomk,tau=atau,As=aAs,ns=ans,halofit_version=ahalofit_version,lmax=almax,)\n",
    "    #pars = camb.set_params(H0=aH0,ombh2=aombh2,omch2=aomch2,mnu=amnu,omk=aomk,tau=atau,As=aAs,ns=ans,lmax=almax)\n",
    "    results = camb.get_results(pars)\n",
    "    powers = results.get_cmb_power_spectra(pars, CMB_unit='muK')\n",
    "    #totCL=powers['lensed_scalar']\n",
    "    #unlensedCL=powers['unlensed_scalar']\n",
    "    #totCL=powers['total']\n",
    "    #unlensedCL=powers['unlensed_scalar']\n",
    "    #print(totCL.shape)\n",
    "    #print(totCL[2,0])\n",
    "    #print(totCL[3,0])\n",
    "    #print(totCL[4,0])\n",
    "    #print(totCL[5,0])\n",
    "    #Python CL arrays are all zero based (starting at L=0), Note L=0,1 entries will be zero by default.\n",
    "    #The different CL are always in the order TT, EE, BB, TE (with BB=0 for unlensed scalar results).\n",
    "    #ls = np.arange(totCL.shape[0])\n",
    "    #fig, ax = plt.subplots(2,2, figsize = (12,12))\n",
    "    #ax[0,0].plot(ls,totCL[:,0], color='k')\n",
    "    #ax[0,0].plot(ls,unlensedCL[:,0], color='C2')\n",
    "    #ax[0,0].set_title(r'$TT\\, [\\mu K^2]$')\n",
    "    #ax[0,1].plot(ls[2:], 1-unlensedCL[2:,0]/totCL[2:,0]);\n",
    "    #ax[0,1].set_title(r'Fractional TT lensing')\n",
    "    #ax[1,0].plot(ls,totCL[:,1], color='k')\n",
    "    #ax[1,0].plot(ls,unlensedCL[:,1], color='C2')\n",
    "    #ax[1,0].set_title(r'$EE\\, [\\mu K^2]$')\n",
    "    #ax[1,1].plot(ls,totCL[:,3], color='k')\n",
    "    #ax[1,1].plot(ls,unlensedCL[:,3], color='C2')\n",
    "    #ax[1,1].set_title(r'$TE\\, [\\mu K^2]$');\n",
    "    #for ax in ax.reshape(-1): \n",
    "    #    ax.set_xlim([2,3000])\n",
    "    #    ax.set_xlabel(r'$\\ell$');\n",
    "\n",
    "    #return totCL[:,0],ls;\n",
    "    print(\"ok\")\n",
    "    return\n",
    "\n",
    "%matplotlib inline\n",
    "%config InlineBackend.figure_format = 'retina'\n",
    "import sys, platform, os\n",
    "import matplotlib\n",
    "from matplotlib import pyplot as plt\n",
    "import numpy as np\n",
    "import camb\n",
    "from camb import model, initialpower\n",
    "print('Using CAMB %s installed at %s'%(camb.__version__,os.path.dirname(camb.__file__)))\n",
    "# make sure the version and path is what you expect\n",
    "\n",
    "ini_draw(67.32117,0.0223828,0.1201075,0.06,0,0.05430842,2.100549e-9,0.9660499,5,2700)\n",
    "\n",
    "#Dltt,ls = ini_draw(67.32117,0.0223828,0.1201075,0.06,0,0.05430842,2.100549e-9,0.9660499,5,2700)"
   ]
  },
  {
   "cell_type": "code",
   "execution_count": 1,
   "id": "f5d3625e-caa4-4e76-afb2-60c24be9e9f5",
   "metadata": {},
   "outputs": [
    {
     "name": "stdout",
     "output_type": "stream",
     "text": [
      "Using CAMB 1.5.7 installed at /home/andrea/Bureau/CAMB_V2/CAMB/camb\n",
      "Non ??\n",
      "CPS Is Problems 0\n",
      "CPS Is Problems 1\n",
      "CT Is Problems 0\n",
      "CT Is Problems 1\n",
      "CT Is Problems 2\n",
      "CT Is Problems 3\n",
      " Is get_result ok ?\n",
      " Doing frequencies:    0.0000000000000000        250.00000000000000        500.00000000000000        600.00000000000000        700.00000000000000        800.00000000000000     \n",
      "CT Is Problems End\n",
      "CPS Is Problems 2\n",
      "CPS Is Problems End\n"
     ]
    }
   ],
   "source": [
    "%matplotlib inline\n",
    "%config InlineBackend.figure_format = 'retina'\n",
    "import sys, platform, os\n",
    "import matplotlib\n",
    "from matplotlib import pyplot as plt\n",
    "import numpy as np\n",
    "import camb\n",
    "from camb import model, initialpower\n",
    "print('Using CAMB %s installed at %s'%(camb.__version__,os.path.dirname(camb.__file__)))\n",
    "# make sure the version and path is what you expect\n",
    "\n",
    "#Set up a new set of parameters for CAMB\n",
    "#The defaults give one massive neutrino and helium set using BBN consistency\n",
    "pars = camb.set_params(H0=67.5, ombh2=0.022, omch2=0.122, mnu=0.06, omk=0, tau=0.06,  \n",
    "                       As=2e-9, ns=0.965, halofit_version='mead', lmax=3000)\n",
    "\n",
    "#calculate results for these parameters\n",
    "results = camb.get_results(pars)"
   ]
  },
  {
   "cell_type": "code",
   "execution_count": null,
   "id": "92855f61-85fa-41b9-836c-24fa81b52861",
   "metadata": {},
   "outputs": [
    {
     "name": "stdout",
     "output_type": "stream",
     "text": [
      "Power Spectra !\n",
      "Is Problems 0\n",
      "CPS Is Problems 0\n",
      "CPS Is Problems 1\n",
      "CT Is Problems 0\n",
      "CT Is Problems 1\n",
      "CT Is Problems 2\n",
      "CT Is Problems 3\n",
      " Is get_result ok ?\n",
      " Doing frequencies:    0.0000000000000000        250.00000000000000        500.00000000000000        600.00000000000000        700.00000000000000        800.00000000000000     \n"
     ]
    }
   ],
   "source": [
    "powers = results.get_cmb_power_spectra(pars)"
   ]
  }
 ],
 "metadata": {
  "kernelspec": {
   "display_name": "Python 3 (ipykernel)",
   "language": "python",
   "name": "python3"
  },
  "language_info": {
   "codemirror_mode": {
    "name": "ipython",
    "version": 3
   },
   "file_extension": ".py",
   "mimetype": "text/x-python",
   "name": "python",
   "nbconvert_exporter": "python",
   "pygments_lexer": "ipython3",
   "version": "3.10.12"
  }
 },
 "nbformat": 4,
 "nbformat_minor": 5
}
