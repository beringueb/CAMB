{
 "cells": [
  {
   "cell_type": "code",
   "execution_count": null,
   "id": "70607b81-9cf6-4505-b6ce-58d7ba35fe2b",
   "metadata": {},
   "outputs": [],
   "source": [
    "import numpy as np\n",
    "import matplotlib.pyplot as plt\n",
    "\n",
    "file_path1 = 'dotmu_array.dat'\n",
    "\n",
    "with open(file_path1, 'r') as file:\n",
    "    content1 = file.read()\n",
    "\n",
    "liste1 = list(content1.split())\n",
    "\n",
    "l = []\n",
    "maxl = 20000\n",
    "\n",
    "Dltt1 = []\n",
    "\n",
    "del liste1[0]\n",
    "del liste1[0]\n",
    "\n",
    "for i in range(maxl-2):\n",
    "    Dltt1.append(float(liste1[i*8]))\n",
    "\n",
    "l = np.arange(2,maxl)\n",
    "\n",
    "plt.plot(l,Dltt1)\n",
    "plt.ylabel('CLT fractional difference at f = 353 Hz')\n",
    "plt.xlabel('echelle angulaire (l)')\n",
    "\n",
    "print(Dltt1[400])"
   ]
  }
 ],
 "metadata": {
  "kernelspec": {
   "display_name": "Python 3 (ipykernel)",
   "language": "python",
   "name": "python3"
  },
  "language_info": {
   "codemirror_mode": {
    "name": "ipython",
    "version": 3
   },
   "file_extension": ".py",
   "mimetype": "text/x-python",
   "name": "python",
   "nbconvert_exporter": "python",
   "pygments_lexer": "ipython3",
   "version": "3.10.12"
  }
 },
 "nbformat": 4,
 "nbformat_minor": 5
}
