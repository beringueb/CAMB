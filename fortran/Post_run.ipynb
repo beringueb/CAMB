{
 "cells": [
  {
   "cell_type": "code",
   "execution_count": 4,
   "id": "6d518ebd-08d2-4eb6-9e11-2baeee2058cb",
   "metadata": {},
   "outputs": [
    {
     "ename": "ModuleNotFoundError",
     "evalue": "No module named 'camb'",
     "output_type": "error",
     "traceback": [
      "\u001b[0;31m---------------------------------------------------------------------------\u001b[0m",
      "\u001b[0;31mModuleNotFoundError\u001b[0m                       Traceback (most recent call last)",
      "Cell \u001b[0;32mIn[4], line 7\u001b[0m\n\u001b[1;32m      5\u001b[0m \u001b[38;5;28;01mfrom\u001b[39;00m \u001b[38;5;21;01mmatplotlib\u001b[39;00m \u001b[38;5;28;01mimport\u001b[39;00m pyplot \u001b[38;5;28;01mas\u001b[39;00m plt\n\u001b[1;32m      6\u001b[0m \u001b[38;5;28;01mimport\u001b[39;00m \u001b[38;5;21;01mnumpy\u001b[39;00m \u001b[38;5;28;01mas\u001b[39;00m \u001b[38;5;21;01mnp\u001b[39;00m\n\u001b[0;32m----> 7\u001b[0m \u001b[38;5;28;01mimport\u001b[39;00m \u001b[38;5;21;01mcamb\u001b[39;00m\n\u001b[1;32m      8\u001b[0m \u001b[38;5;66;03m#from camb import model, initialpower\u001b[39;00m\n\u001b[1;32m      9\u001b[0m \u001b[38;5;66;03m#print('Using CAMB %s installed at %s'%(camb.__version__,os.path.dirname(camb.__file__)))\u001b[39;00m\n\u001b[1;32m     10\u001b[0m \u001b[38;5;66;03m# make sure the version and path is what you expect\u001b[39;00m\n",
      "\u001b[0;31mModuleNotFoundError\u001b[0m: No module named 'camb'"
     ]
    }
   ],
   "source": [
    "%matplotlib inline\n",
    "%config InlineBackend.figure_format = 'retina'\n",
    "import sys, platform, os\n",
    "import matplotlib\n",
    "from matplotlib import pyplot as plt\n",
    "import numpy as np\n",
    "#import camb\n",
    "#from camb import model, initialpower\n",
    "#print('Using CAMB %s installed at %s'%(camb.__version__,os.path.dirname(camb.__file__)))\n",
    "# make sure the version and path is what you expect"
   ]
  },
  {
   "cell_type": "code",
   "execution_count": null,
   "id": "3bcf8611-8caa-4227-8462-f44e472b502c",
   "metadata": {},
   "outputs": [],
   "source": []
  }
 ],
 "metadata": {
  "kernelspec": {
   "display_name": "Python 3 (ipykernel)",
   "language": "python",
   "name": "python3"
  },
  "language_info": {
   "codemirror_mode": {
    "name": "ipython",
    "version": 3
   },
   "file_extension": ".py",
   "mimetype": "text/x-python",
   "name": "python",
   "nbconvert_exporter": "python",
   "pygments_lexer": "ipython3",
   "version": "3.10.12"
  }
 },
 "nbformat": 4,
 "nbformat_minor": 5
}
